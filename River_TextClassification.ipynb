{
  "nbformat": 4,
  "nbformat_minor": 0,
  "metadata": {
    "colab": {
      "name": "River_TextClassification.ipynb",
      "provenance": [],
      "collapsed_sections": []
    },
    "kernelspec": {
      "name": "python3",
      "display_name": "Python 3"
    },
    "language_info": {
      "name": "python"
    }
  },
  "cells": [
    {
      "cell_type": "markdown",
      "source": [
        "#River Python installation\n"
      ],
      "metadata": {
        "id": "O-gMls6ifQrR"
      }
    },
    {
      "cell_type": "code",
      "execution_count": 1,
      "metadata": {
        "colab": {
          "base_uri": "https://localhost:8080/"
        },
        "id": "9fHk72jwV2tw",
        "outputId": "92474cd6-fffa-4b01-ae97-aac5c097251a"
      },
      "outputs": [
        {
          "output_type": "stream",
          "name": "stdout",
          "text": [
            "Collecting river\n",
            "  Downloading river-0.9.0-cp37-cp37m-manylinux_2_5_x86_64.manylinux1_x86_64.manylinux_2_17_x86_64.manylinux2014_x86_64.whl (2.5 MB)\n",
            "\u001b[K     |████████████████████████████████| 2.5 MB 6.7 MB/s \n",
            "\u001b[?25hRequirement already satisfied: pandas>=1.0.1 in /usr/local/lib/python3.7/dist-packages (from river) (1.1.5)\n",
            "Requirement already satisfied: scipy>=1.4.1 in /usr/local/lib/python3.7/dist-packages (from river) (1.4.1)\n",
            "Requirement already satisfied: numpy>=1.18.1 in /usr/local/lib/python3.7/dist-packages (from river) (1.19.5)\n",
            "Requirement already satisfied: python-dateutil>=2.7.3 in /usr/local/lib/python3.7/dist-packages (from pandas>=1.0.1->river) (2.8.2)\n",
            "Requirement already satisfied: pytz>=2017.2 in /usr/local/lib/python3.7/dist-packages (from pandas>=1.0.1->river) (2018.9)\n",
            "Requirement already satisfied: six>=1.5 in /usr/local/lib/python3.7/dist-packages (from python-dateutil>=2.7.3->pandas>=1.0.1->river) (1.15.0)\n",
            "Installing collected packages: river\n",
            "Successfully installed river-0.9.0\n"
          ]
        }
      ],
      "source": [
        "!pip install river"
      ]
    },
    {
      "cell_type": "code",
      "source": [
        "pip install -U numpy"
      ],
      "metadata": {
        "colab": {
          "base_uri": "https://localhost:8080/"
        },
        "id": "4CR3D6siWYWw",
        "outputId": "578da28a-cdfe-4d4d-f901-dac1ade20ac9"
      },
      "execution_count": 1,
      "outputs": [
        {
          "output_type": "stream",
          "name": "stdout",
          "text": [
            "Requirement already satisfied: numpy in /usr/local/lib/python3.7/dist-packages (1.21.5)\n"
          ]
        }
      ]
    },
    {
      "cell_type": "code",
      "source": [
        "import river"
      ],
      "metadata": {
        "id": "qej8IiuZXNx6"
      },
      "execution_count": 2,
      "outputs": []
    },
    {
      "cell_type": "code",
      "source": [
        "dir(river)"
      ],
      "metadata": {
        "colab": {
          "base_uri": "https://localhost:8080/"
        },
        "id": "2sa4Y0kGXRkn",
        "outputId": "146e1300-f61d-486b-e1e0-f1c432c767ef"
      },
      "execution_count": 3,
      "outputs": [
        {
          "output_type": "execute_result",
          "data": {
            "text/plain": [
              "['__all__',\n",
              " '__builtins__',\n",
              " '__cached__',\n",
              " '__doc__',\n",
              " '__file__',\n",
              " '__loader__',\n",
              " '__name__',\n",
              " '__package__',\n",
              " '__path__',\n",
              " '__spec__',\n",
              " '__version__',\n",
              " 'anomaly',\n",
              " 'base',\n",
              " 'cluster',\n",
              " 'compat',\n",
              " 'compose',\n",
              " 'datasets',\n",
              " 'drift',\n",
              " 'dummy',\n",
              " 'ensemble',\n",
              " 'evaluate',\n",
              " 'facto',\n",
              " 'feature_extraction',\n",
              " 'feature_selection',\n",
              " 'imblearn',\n",
              " 'linear_model',\n",
              " 'metrics',\n",
              " 'model_selection',\n",
              " 'multiclass',\n",
              " 'multioutput',\n",
              " 'naive_bayes',\n",
              " 'neighbors',\n",
              " 'neural_net',\n",
              " 'optim',\n",
              " 'preprocessing',\n",
              " 'proba',\n",
              " 'reco',\n",
              " 'rules',\n",
              " 'stats',\n",
              " 'stream',\n",
              " 'synth',\n",
              " 'time_series',\n",
              " 'tree',\n",
              " 'utils']"
            ]
          },
          "metadata": {},
          "execution_count": 3
        }
      ]
    },
    {
      "cell_type": "code",
      "source": [
        "from river.naive_bayes import MultinomialNB"
      ],
      "metadata": {
        "id": "RQjJSEqTXkB9"
      },
      "execution_count": 7,
      "outputs": []
    },
    {
      "cell_type": "code",
      "source": [
        "from river.feature_extraction import BagOfWords,TFIDF "
      ],
      "metadata": {
        "id": "_8LA9SnEYPLN"
      },
      "execution_count": 8,
      "outputs": []
    },
    {
      "cell_type": "code",
      "source": [
        "import pandas as pd"
      ],
      "metadata": {
        "id": "mHkzVOygZMr5"
      },
      "execution_count": 17,
      "outputs": []
    },
    {
      "cell_type": "code",
      "source": [
        "def get_all_attributes(package):\n",
        "    subpackages = []\n",
        "    submodules = []\n",
        "    for i in dir(package):\n",
        "        if str(i) not in [\"__all__\", \"__builtins__\", \"__cached__\", \"__doc__\", \"__file__\", \"__loader__\", \"__name__\", \"__package__\", \"__path__\", \"__pdoc__\", \"__spec__\", \"__version__\"]:\n",
        "            subpackages.append(i)\n",
        "            res = [j for j in dir(eval(\"river.{}\".format(i)))]\n",
        "            submodules.append(res)\n",
        "    df = pd.DataFrame(submodules)\n",
        "    df = df.T\n",
        "    df.columns = subpackages\n",
        "    res_df = df.dropna()\n",
        "    return res_df"
      ],
      "metadata": {
        "id": "50gyHiR5YT0E"
      },
      "execution_count": 18,
      "outputs": []
    },
    {
      "cell_type": "code",
      "source": [
        "river_df = get_all_attributes(river)"
      ],
      "metadata": {
        "id": "Kc64SLCEZGSL"
      },
      "execution_count": 19,
      "outputs": []
    },
    {
      "cell_type": "markdown",
      "source": [
        "#Simulating streaming data"
      ],
      "metadata": {
        "id": "kf89j9nrZsnV"
      }
    },
    {
      "cell_type": "markdown",
      "source": [
        "## Training list"
      ],
      "metadata": {
        "id": "SNh4vh4BZz_n"
      }
    },
    {
      "cell_type": "code",
      "source": [
        "data = [(\"my python program is runnning\",\"software\"),\n",
        "(\"I tried to run this program, but it has bugs\",\"software\"),\n",
        "(\"I need a new machine\",\"hardware\"),\n",
        "(\"the flashdisk is broken\",\"hardware\"),\n",
        "(\"We need to test our code\",\"software\"),\n",
        "(\"programming concepts and testing\",\"software\"),\n",
        "(\"Electrical device\",\"hardware\"),\n",
        "(\"device drives\",\"hardware\"),\n",
        "(\"The generator is broken\",\"hardware\"),\n",
        "(\"im buidling a REST API\",\"software\"),\n",
        "(\"design the best API so far\",\"software\"),\n",
        "(\"they need more electrical wiring\",\"hardware\"),\n",
        "(\"my code has errors\",\"software\"),\n",
        "(\"i found some program test faulty\",\"software\"),\n",
        "(\"i broke the car handle\",\"hardware\"),\n",
        "(\"i tested the user interface code\",\"software\")]"
      ],
      "metadata": {
        "id": "2AuMMRVfZsDj"
      },
      "execution_count": 21,
      "outputs": []
    },
    {
      "cell_type": "markdown",
      "source": [
        "## Testing List"
      ],
      "metadata": {
        "id": "U1hbJVPuZ_e0"
      }
    },
    {
      "cell_type": "code",
      "source": [
        "test_data = [('he writes programs daily','software'),\n",
        "             ('my disk is broken','hardware'),\n",
        "             (\"program mantainance\",\"software\"),\n",
        "             ('The drive is full','hardware')]"
      ],
      "metadata": {
        "id": "aLKqaqXRZ8ck"
      },
      "execution_count": 22,
      "outputs": []
    },
    {
      "cell_type": "markdown",
      "source": [
        "# Building the pipeline"
      ],
      "metadata": {
        "id": "3Gc5u1FJb8aP"
      }
    },
    {
      "cell_type": "code",
      "source": [
        "from river.compose import Pipeline"
      ],
      "metadata": {
        "id": "hVegHXWGaF_w"
      },
      "execution_count": 23,
      "outputs": []
    },
    {
      "cell_type": "code",
      "source": [
        "pipe_nb = Pipeline(('vectorizer',BagOfWords(lowercase=True)),('nb',MultinomialNB()))"
      ],
      "metadata": {
        "id": "r4-_1oyVcKeQ"
      },
      "execution_count": 24,
      "outputs": []
    },
    {
      "cell_type": "markdown",
      "source": [
        "# Building our model"
      ],
      "metadata": {
        "id": "FNq32Nc7cTvO"
      }
    },
    {
      "cell_type": "markdown",
      "source": [
        "##Looping through our dataset"
      ],
      "metadata": {
        "id": "-nUqKxFecktl"
      }
    },
    {
      "cell_type": "code",
      "source": [
        "for text,label in data:\n",
        "    pipe_nb = pipe_nb.learn_one(text,label)"
      ],
      "metadata": {
        "id": "l2K0niOYcPNK"
      },
      "execution_count": 26,
      "outputs": []
    },
    {
      "cell_type": "markdown",
      "source": [
        "#Making prediction"
      ],
      "metadata": {
        "id": "pFFj7LB1csNe"
      }
    },
    {
      "cell_type": "code",
      "source": [
        "pipe_nb.predict_one(\"I built an API\")"
      ],
      "metadata": {
        "colab": {
          "base_uri": "https://localhost:8080/",
          "height": 36
        },
        "id": "9TAkB78zct55",
        "outputId": "0bab9083-83f0-4346-8832-bc3cfebe90ec"
      },
      "execution_count": 27,
      "outputs": [
        {
          "output_type": "execute_result",
          "data": {
            "application/vnd.google.colaboratory.intrinsic+json": {
              "type": "string"
            },
            "text/plain": [
              "'software'"
            ]
          },
          "metadata": {},
          "execution_count": 27
        }
      ]
    },
    {
      "cell_type": "code",
      "source": [
        "pipe_nb.predict_one(\"the hard drive  in the computer is damaged\")"
      ],
      "metadata": {
        "colab": {
          "base_uri": "https://localhost:8080/",
          "height": 36
        },
        "id": "1wU49bFddC3e",
        "outputId": "3db0cafd-7dfb-47b6-e5ee-2b52379b1d8f"
      },
      "execution_count": 29,
      "outputs": [
        {
          "output_type": "execute_result",
          "data": {
            "application/vnd.google.colaboratory.intrinsic+json": {
              "type": "string"
            },
            "text/plain": [
              "'hardware'"
            ]
          },
          "metadata": {},
          "execution_count": 29
        }
      ]
    },
    {
      "cell_type": "markdown",
      "source": [
        "#Prediction probability"
      ],
      "metadata": {
        "id": "KafsrdQ3c4Qp"
      }
    },
    {
      "cell_type": "code",
      "source": [
        "pipe_nb.predict_proba_one(\"I built an API\")"
      ],
      "metadata": {
        "colab": {
          "base_uri": "https://localhost:8080/"
        },
        "id": "ENCCQIHacy2n",
        "outputId": "401f654c-4c5a-4869-bc30-314606e0c430"
      },
      "execution_count": 28,
      "outputs": [
        {
          "output_type": "execute_result",
          "data": {
            "text/plain": [
              "{'hardware': 0.37130645555525305, 'software': 0.6286935444447462}"
            ]
          },
          "metadata": {},
          "execution_count": 28
        }
      ]
    },
    {
      "cell_type": "markdown",
      "source": [
        "#Model accuracy"
      ],
      "metadata": {
        "id": "2zxc22apdIYS"
      }
    },
    {
      "cell_type": "code",
      "source": [
        "metric = river.metrics.Accuracy()\n",
        "for text,label in test_data:\n",
        "    y_pred_before = pipe_nb.predict_one(text)\n",
        "    metric = metric.update(label,y_pred_before)\n",
        "    pipe_nb = pipe_nb.learn_one(text,label)"
      ],
      "metadata": {
        "id": "jgFCWJWOdKF9"
      },
      "execution_count": 30,
      "outputs": []
    },
    {
      "cell_type": "code",
      "source": [
        "metric"
      ],
      "metadata": {
        "colab": {
          "base_uri": "https://localhost:8080/"
        },
        "id": "jainR5n5dkse",
        "outputId": "bf1d296b-a52a-439c-e9b5-0fea5b84c8bd"
      },
      "execution_count": 31,
      "outputs": [
        {
          "output_type": "execute_result",
          "data": {
            "text/plain": [
              "Accuracy: 75.00%"
            ]
          },
          "metadata": {},
          "execution_count": 31
        }
      ]
    }
  ]
}